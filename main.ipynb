{
 "cells": [
  {
   "cell_type": "code",
   "execution_count": 1,
   "id": "under-uncle",
   "metadata": {},
   "outputs": [],
   "source": [
    "import matplotlib.pyplot as plt\n",
    "import csv\n",
    "import numpy as np"
   ]
  },
  {
   "cell_type": "code",
   "execution_count": 2,
   "id": "configured-wrong",
   "metadata": {},
   "outputs": [],
   "source": [
    "myCarsX = []\n",
    "myCarsY = []\n",
    "carsX = []\n",
    "carsY = []\n",
    "planesX = []\n",
    "planesY = []\n",
    "myPlanesX = []\n",
    "myPlanesY = []\n",
    "shipsX = []\n",
    "shipsY = []\n",
    "myShipsX = []\n",
    "myShipsY = []\n",
    "trainsX = []\n",
    "trainsY = []\n",
    "myTrainsX = []\n",
    "myTrainsY = []\n",
    "x = []\n",
    "y = []"
   ]
  },
  {
   "cell_type": "code",
   "execution_count": 3,
   "id": "disturbed-ranking",
   "metadata": {},
   "outputs": [],
   "source": [
    "with open('main_cars.csv') as csv_file:\n",
    "    cars = csv.reader(csv_file, delimiter=',')\n",
    "    for car in cars:\n",
    "        carsX.append(float(car[0]))\n",
    "        carsY.append(float(car[1]))\n",
    "        \n",
    "with open('cars.csv') as csv_file:\n",
    "    cars = csv.reader(csv_file, delimiter=',')\n",
    "    for car in cars:\n",
    "        myCarsX.append(float(car[0]))\n",
    "        myCarsY.append(float(car[1]))"
   ]
  },
  {
   "cell_type": "code",
   "execution_count": 4,
   "id": "global-agreement",
   "metadata": {},
   "outputs": [],
   "source": [
    "with open('main_planes.csv') as csv_file:\n",
    "    planes = csv.reader(csv_file, delimiter=',')\n",
    "    for plane in planes:\n",
    "        planesX.append(float(plane[0]))\n",
    "        planesY.append(float(plane[1]))\n",
    "        \n",
    "with open('planes.csv') as csv_file:\n",
    "    planes = csv.reader(csv_file, delimiter=',')\n",
    "    for plane in planes:\n",
    "        myPlanesX.append(float(plane[0]))\n",
    "        myPlanesY.append(float(plane[1]))"
   ]
  },
  {
   "cell_type": "code",
   "execution_count": 5,
   "id": "arctic-juvenile",
   "metadata": {},
   "outputs": [],
   "source": [
    "with open('main_ships.csv') as csv_file:\n",
    "    ships = csv.reader(csv_file, delimiter=',')\n",
    "    for ship in ships:\n",
    "        shipsX.append(float(ship[0]))\n",
    "        shipsY.append(float(ship[1]))\n",
    "\n",
    "with open('ships.csv') as csv_file:\n",
    "    ships = csv.reader(csv_file, delimiter=',')\n",
    "    for ship in ships:\n",
    "        myShipsX.append(float(ship[0]))\n",
    "        myShipsY.append(float(ship[1]))"
   ]
  },
  {
   "cell_type": "code",
   "execution_count": 6,
   "id": "matched-funds",
   "metadata": {},
   "outputs": [],
   "source": [
    "with open('main_trains.csv') as csv_file:\n",
    "    trains = csv.reader(csv_file, delimiter=',')\n",
    "    for train in trains:\n",
    "        trainsX.append(float(train[0]))\n",
    "        trainsY.append(float(train[1]))\n",
    "\n",
    "with open('trains.csv') as csv_file:\n",
    "    trains = csv.reader(csv_file, delimiter=',')\n",
    "    for train in trains:\n",
    "        myTrainsX.append(float(train[0]))\n",
    "        myTrainsY.append(float(train[1]))"
   ]
  },
  {
   "cell_type": "code",
   "execution_count": 7,
   "id": "boolean-citation",
   "metadata": {},
   "outputs": [],
   "source": [
    "with open('line.csv') as csv_file:\n",
    "    gkLines = csv.reader(csv_file, delimiter=',')\n",
    "    for gkLine in gkLines:\n",
    "        x.append(float(gkLine[0]))\n",
    "        y.append(float(gkLine[1]))"
   ]
  },
  {
   "cell_type": "code",
   "execution_count": 8,
   "id": "cultural-penguin",
   "metadata": {},
   "outputs": [
    {
     "data": {
      "image/png": "[encoded data removed]",
      "text/plain": [
       "<Figure size 432x288 with 1 Axes>"
      ]
     },
     "metadata": {
      "needs_background": "light"
     },
     "output_type": "display_data"
    }
   ],
   "source": [
    "plt.plot(carsX, carsY, label = \"Cars\")\n",
    "plt.plot(myCarsX, myCarsY, label = \"My cars\",ls=':')\n",
    "\n",
    "# Plotting planes\n",
    "plt.plot(planesX, planesY, label = \"Planes\", )\n",
    "plt.plot(myPlanesX, myPlanesY, label = \"My planes\",ls=':')\n",
    "\n",
    "# Plotting ships\n",
    "plt.plot(shipsX, shipsY, label = \"Ships\")\n",
    "plt.plot(myShipsX, myShipsY, label = \"My ships\",ls=':')\n",
    "\n",
    "# Plotting trains\n",
    "plt.plot(trainsX, trainsY, label = \"Trains\")\n",
    "plt.plot(myTrainsX, myTrainsY, label = \"My Cars\",ls=':')\n",
    "\n",
    "# Plotting G-K line\n",
    "plt.plot(x, y, label = \"G-K Line\")\n",
    "# Log scale for better values on axes\n",
    "plt.xscale('log')\n",
    "plt.yscale('log')\n",
    "# naming the x axis\n",
    "plt.xlabel('Km/hr')\n",
    "# naming the y axis\n",
    "plt.ylabel('Specific tractive')\n",
    "plt.legend()\n",
    "plt.show()"
   ]
  },
  {
   "cell_type": "code",
   "execution_count": null,
   "id": "7595ce38",
   "metadata": {},
   "outputs": [],
   "source": []
  }
 ],
 "metadata": {
  "kernelspec": {
   "display_name": "Python 3.9.12 ('base')",
   "language": "python",
   "name": "python3"
  },
  "language_info": {
   "codemirror_mode": {
    "name": "ipython",
    "version": 3
   },
   "file_extension": ".py",
   "mimetype": "text/x-python",
   "name": "python",
   "nbconvert_exporter": "python",
   "pygments_lexer": "ipython3",
   "version": "3.9.12"
  },
  "vscode": {
   "interpreter": {
    "hash": "a90aeebcf29d64a654773811cc170cb25061cb2498f10ac689db374c7bf325de"
   }
  }
 },
 "nbformat": 4,
 "nbformat_minor": 5
}
